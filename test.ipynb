{
 "cells": [
  {
   "cell_type": "code",
   "execution_count": 1,
   "metadata": {},
   "outputs": [
    {
     "data": {
      "text/plain": [
       "'cpu'"
      ]
     },
     "execution_count": 1,
     "metadata": {},
     "output_type": "execute_result"
    }
   ],
   "source": [
    "import math\n",
    "import torch\n",
    "import torch.nn as nn\n",
    "import torch.nn.functional as F\n",
    "\n",
    "from lib.loss.sphereface2 import *\n",
    "\n",
    "import numpy as np\n",
    "import torch\n",
    "import random\n",
    "\n",
    "def set_seed(seed):\n",
    "    np.random.seed(seed)\n",
    "    random.seed(seed)\n",
    "    torch.manual_seed(seed)\n",
    "    if torch.cuda.is_available():\n",
    "        torch.cuda.manual_seed(seed)\n",
    "        torch.cuda.manual_seed_all(seed)\n",
    "    torch.backends.cudnn.benchmark = False\n",
    "    torch.backends.cudnn.deterministic = True\n",
    "\n",
    "set_seed(3022)\n",
    "\n",
    "# device = torch.device('mps' if torch.backends.mps.is_available() else 'cpu')\n",
    "device = 'cpu'\n",
    "device"
   ]
  },
  {
   "cell_type": "code",
   "execution_count": 10,
   "metadata": {},
   "outputs": [],
   "source": [
    "batch_size = 32\n",
    "num_classes = 600\n",
    "r = 40\n",
    "m = 0.4\n",
    "l = 0.7\n",
    "t = 3.\n",
    "margin_type = 'A'"
   ]
  },
  {
   "cell_type": "code",
   "execution_count": 11,
   "metadata": {},
   "outputs": [
    {
     "data": {
      "text/plain": [
       "tensor([348, 264, 411,  39, 369, 410, 172, 121, 278, 259, 305, 555,  52, 238,\n",
       "        305,  96,  12, 559, 582, 234, 450, 192, 103, 112, 352, 585, 305,  82,\n",
       "        211, 568, 132, 529])"
      ]
     },
     "execution_count": 11,
     "metadata": {},
     "output_type": "execute_result"
    }
   ],
   "source": [
    "x = torch.rand((batch_size, num_classes))\n",
    "y = torch.zeros(batch_size).random_(num_classes).long()\n",
    "y"
   ]
  },
  {
   "cell_type": "code",
   "execution_count": 12,
   "metadata": {},
   "outputs": [
    {
     "data": {
      "text/plain": [
       "(tensor(0.0570),\n",
       " tensor([[ -6.5366,  -9.8331, -26.3281,  ...,  24.8107, -25.9402,   5.2875],\n",
       "         [ -6.4215,  -2.8220,  14.3189,  ..., -22.3555,  21.4496, -26.0347],\n",
       "         [ -2.2130, -21.4492,   9.2286,  ...,   5.6058, -13.0432, -14.9139],\n",
       "         ...,\n",
       "         [ -7.1829,   6.1392, -24.0033,  ..., -18.6522, -29.0807, -29.6197],\n",
       "         [-19.6523,  -8.8938,  15.3108,  ...,  17.3855, -13.8753, -21.4755],\n",
       "         [-28.6364,  -4.9285,  25.8206,  ..., -14.2998,  31.0264, -12.2747]]),\n",
       " tensor(-51663.3281),\n",
       " tensor([[0.0075, 0.0075, 0.0075,  ..., 0.0075, 0.0075, 0.0075],\n",
       "         [0.0075, 0.0075, 0.0075,  ..., 0.0075, 0.0075, 0.0075],\n",
       "         [0.0075, 0.0075, 0.0075,  ..., 0.0075, 0.0075, 0.0075],\n",
       "         ...,\n",
       "         [0.0075, 0.0075, 0.0075,  ..., 0.0075, 0.0075, 0.0075],\n",
       "         [0.0075, 0.0075, 0.0075,  ..., 0.0075, 0.0075, 0.0075],\n",
       "         [0.0075, 0.0075, 0.0075,  ..., 0.0075, 0.0075, 0.0075]]),\n",
       " tensor(144.3200))"
      ]
     },
     "execution_count": 12,
     "metadata": {},
     "output_type": "execute_result"
    }
   ],
   "source": [
    "self = RefSphereFace2(alpha=l, m=m, r=r, t=t, magn_type=margin_type)\n",
    "loss_gt, logits_gt, weight_gt = self(x, y)\n",
    "loss_gt, logits_gt, logits_gt.sum(), weight_gt, weight_gt.sum()"
   ]
  },
  {
   "cell_type": "code",
   "execution_count": 13,
   "metadata": {},
   "outputs": [
    {
     "data": {
      "text/plain": [
       "(tensor(0.0570),\n",
       " tensor([[ -6.5366,  -9.8331, -26.3281,  ...,  24.8107, -25.9402,   5.2875],\n",
       "         [ -6.4215,  -2.8220,  14.3189,  ..., -22.3555,  21.4496, -26.0347],\n",
       "         [ -2.2130, -21.4492,   9.2286,  ...,   5.6058, -13.0432, -14.9139],\n",
       "         ...,\n",
       "         [ -7.1829,   6.1392, -24.0033,  ..., -18.6522, -29.0807, -29.6197],\n",
       "         [-19.6523,  -8.8938,  15.3108,  ...,  17.3855, -13.8753, -21.4755],\n",
       "         [-28.6364,  -4.9285,  25.8206,  ..., -14.2998,  31.0264, -12.2747]]),\n",
       " tensor(-51663.3281),\n",
       " tensor([[0.0075, 0.0075, 0.0075,  ..., 0.0075, 0.0075, 0.0075],\n",
       "         [0.0075, 0.0075, 0.0075,  ..., 0.0075, 0.0075, 0.0075],\n",
       "         [0.0075, 0.0075, 0.0075,  ..., 0.0075, 0.0075, 0.0075],\n",
       "         ...,\n",
       "         [0.0075, 0.0075, 0.0075,  ..., 0.0075, 0.0075, 0.0075],\n",
       "         [0.0075, 0.0075, 0.0075,  ..., 0.0075, 0.0075, 0.0075],\n",
       "         [0.0075, 0.0075, 0.0075,  ..., 0.0075, 0.0075, 0.0075]]),\n",
       " tensor(144.3200))"
      ]
     },
     "execution_count": 13,
     "metadata": {},
     "output_type": "execute_result"
    }
   ],
   "source": [
    "criterion = SphereLoss(lamb=l, margin=m, scale=r, t=t, margin_type=margin_type)\n",
    "loss, logits, weight = criterion(x, y)\n",
    "loss, logits, logits.sum(), weight, weight.sum()"
   ]
  },
  {
   "cell_type": "code",
   "execution_count": 14,
   "metadata": {},
   "outputs": [
    {
     "data": {
      "text/plain": [
       "(tensor([[-0.1634, -0.2458, -0.6582,  ...,  0.6203, -0.6485,  0.1322],\n",
       "         [-0.1605, -0.0706,  0.3580,  ..., -0.5589,  0.5362, -0.6509],\n",
       "         [-0.0553, -0.5362,  0.2307,  ...,  0.1401, -0.3261, -0.3728],\n",
       "         ...,\n",
       "         [-0.1796,  0.1535, -0.6001,  ..., -0.4663, -0.7270, -0.7405],\n",
       "         [-0.4913, -0.2223,  0.3828,  ...,  0.4346, -0.3469, -0.5369],\n",
       "         [-0.7159, -0.1232,  0.6455,  ..., -0.3575,  0.7757, -0.3069]]),\n",
       " tensor(-1291.5833))"
      ]
     },
     "execution_count": 14,
     "metadata": {},
     "output_type": "execute_result"
    }
   ],
   "source": [
    "index_y = torch.arange(len(y))\n",
    "cos_theta = x\n",
    "\n",
    "theta_m = torch.acos(cos_theta.clamp(-1+1e-5, 1.-1e-5))\n",
    "theta_m.scatter_(1, y.view(-1, 1), self.m, reduce='add')\n",
    "theta_m.clamp_(1e-5, 3.14159)\n",
    "\n",
    "g_cos_theta = torch.cos(theta_m)\n",
    "g_cos_theta = 2. * ((g_cos_theta + 1.) / 2.).pow(self.t) - 1.\n",
    "g_cos_theta, g_cos_theta.sum()"
   ]
  },
  {
   "cell_type": "code",
   "execution_count": 7,
   "metadata": {},
   "outputs": [
    {
     "data": {
      "text/plain": [
       "(tensor([[ 0.9808, -0.1933,  0.2304,  ...,  0.0757,  0.8295, -0.4010],\n",
       "         [-0.3679, -0.5634, -0.1492,  ...,  0.3682,  0.7450, -0.1906],\n",
       "         [ 0.0389, -0.1680,  0.4587,  ..., -0.7314, -0.0891, -0.0954],\n",
       "         ...,\n",
       "         [-0.6661,  0.4484, -0.4101,  ...,  0.8546, -0.6737, -0.7250],\n",
       "         [ 0.0241, -0.3533,  0.4371,  ...,  0.6928, -0.6292,  0.0742],\n",
       "         [-0.1420, -0.2916, -0.0419,  ..., -0.6848, -0.7042, -0.6977]]),\n",
       " tensor(-1208.6223))"
      ]
     },
     "execution_count": 7,
     "metadata": {},
     "output_type": "execute_result"
    }
   ],
   "source": [
    "index_y = torch.arange(len(y))\n",
    "cos_theta = x\n",
    "\n",
    "one_hot = torch.zeros_like(cos_theta)\n",
    "one_hot[index_y, y] = 1\n",
    "\n",
    "cos_theta_m = torch.acos(cos_theta.clamp(-1+1e-5, 1.-1e-5))\n",
    "# cos_theta_m.scatter_(1, y.view(-1, 1), self.m, reduce='add')\n",
    "# cos_theta_m[index_y, y] += m\n",
    "cos_theta_m += m * one_hot\n",
    "cos_theta_m.clamp_max_(math.pi)\n",
    "cos_theta_m = torch.cos(cos_theta_m)\n",
    "\n",
    "g_cos_theta_m = g_func(cos_theta_m, t)\n",
    "g_cos_theta_m, g_cos_theta_m.sum()"
   ]
  },
  {
   "cell_type": "code",
   "execution_count": 8,
   "metadata": {},
   "outputs": [],
   "source": [
    "# index_y = torch.arange(len(y))\n",
    "# cos_theta = x\n",
    "\n",
    "# cos_theta_m = torch.acos(cos_theta)\n",
    "# cos_theta_m[index_y, y] = cos_theta_m[index_y, y] * m\n",
    "# cos_theta_m[index_y, y].clamp_max(math.pi)\n",
    "# cos_theta_m.size(), one_hot.size()"
   ]
  },
  {
   "cell_type": "code",
   "execution_count": null,
   "metadata": {},
   "outputs": [],
   "source": []
  }
 ],
 "metadata": {
  "kernelspec": {
   "display_name": "deep-learning",
   "language": "python",
   "name": "python3"
  },
  "language_info": {
   "codemirror_mode": {
    "name": "ipython",
    "version": 3
   },
   "file_extension": ".py",
   "mimetype": "text/x-python",
   "name": "python",
   "nbconvert_exporter": "python",
   "pygments_lexer": "ipython3",
   "version": "3.9.7"
  },
  "orig_nbformat": 4
 },
 "nbformat": 4,
 "nbformat_minor": 2
}
